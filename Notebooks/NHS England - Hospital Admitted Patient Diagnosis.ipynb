{
 "cells": [
  {
   "cell_type": "markdown",
   "metadata": {
    "application/vnd.databricks.v1+cell": {
     "cellMetadata": {
      "byteLimit": 2048000,
      "rowLimit": 10000
     },
     "inputWidgets": {},
     "nuid": "7d09a3a7-e9c9-410a-821c-b8cefca61911",
     "showTitle": false,
     "tableResultSettingsMap": {},
     "title": ""
    }
   },
   "source": [
    "NHS England\n",
    "# Hospital Admited Patient Care Activity\n",
    "\n",
    "Data Source: [NHS Digital](https://digital.nhs.uk/data-and-information/publications/statistical/hospital-admitted-patient-care-activity)\n",
    "\n",
    "This notebook presented a collection of analyses based on the publicly available data about hospital admitted patient care activity in England."
   ]
  },
  {
   "cell_type": "markdown",
   "metadata": {
    "application/vnd.databricks.v1+cell": {
     "cellMetadata": {
      "byteLimit": 2048000,
      "rowLimit": 10000
     },
     "inputWidgets": {},
     "nuid": "bcbca9e1-ecc6-4214-b420-8f16c84d44bf",
     "showTitle": false,
     "tableResultSettingsMap": {},
     "title": ""
    }
   },
   "source": [
    "%md\n",
    "## 1. Prepare Data\n",
    "\n",
    "- Download patient care diagnosis data (.xlsx) from NHS England\n",
    "- Upload the diagnosis data to Worksapce\n",
    "\n",
    "**Path:** /Workspace/Users/_username_/Data/NHS England/Admitted Patient Care Activity/Diagnosis"
   ]
  },
  {
   "cell_type": "markdown",
   "metadata": {
    "application/vnd.databricks.v1+cell": {
     "cellMetadata": {
      "byteLimit": 2048000,
      "rowLimit": 10000
     },
     "inputWidgets": {},
     "nuid": "f77a94c4-d775-4762-b931-64c432cb48a8",
     "showTitle": false,
     "tableResultSettingsMap": {},
     "title": ""
    }
   },
   "source": [
    "## 2. Install dependencies"
   ]
  },
  {
   "cell_type": "code",
   "execution_count": 0,
   "metadata": {
    "application/vnd.databricks.v1+cell": {
     "cellMetadata": {
      "byteLimit": 2048000,
      "rowLimit": 10000
     },
     "collapsed": true,
     "inputWidgets": {},
     "nuid": "e4110c30-3c18-4c62-862d-fe79e431ac12",
     "showTitle": false,
     "tableResultSettingsMap": {},
     "title": ""
    }
   },
   "outputs": [],
   "source": [
    "pip install openpyxl"
   ]
  },
  {
   "cell_type": "code",
   "execution_count": 0,
   "metadata": {
    "application/vnd.databricks.v1+cell": {
     "cellMetadata": {
      "byteLimit": 2048000,
      "rowLimit": 10000
     },
     "collapsed": true,
     "inputWidgets": {},
     "nuid": "ca778e4d-0321-4332-a5c3-1da6aef4e010",
     "showTitle": false,
     "tableResultSettingsMap": {},
     "title": ""
    }
   },
   "outputs": [],
   "source": [
    "%pip install pandas"
   ]
  },
  {
   "cell_type": "markdown",
   "metadata": {
    "application/vnd.databricks.v1+cell": {
     "cellMetadata": {
      "byteLimit": 2048000,
      "rowLimit": 10000
     },
     "inputWidgets": {},
     "nuid": "d83689a2-be0a-4476-9cdc-c27c50cc8521",
     "showTitle": false,
     "tableResultSettingsMap": {},
     "title": ""
    }
   },
   "source": [
    "## 3 - Load patient care diagnosis data"
   ]
  },
  {
   "cell_type": "markdown",
   "metadata": {
    "application/vnd.databricks.v1+cell": {
     "cellMetadata": {
      "byteLimit": 2048000,
      "rowLimit": 10000
     },
     "inputWidgets": {},
     "nuid": "99b9d623-244f-4d00-b85c-40a0d568ff38",
     "showTitle": false,
     "tableResultSettingsMap": {},
     "title": ""
    }
   },
   "source": [
    "### 3.1 List patient care diagnosis data only"
   ]
  },
  {
   "cell_type": "code",
   "execution_count": 0,
   "metadata": {
    "application/vnd.databricks.v1+cell": {
     "cellMetadata": {
      "byteLimit": 2048000,
      "rowLimit": 10000
     },
     "inputWidgets": {},
     "nuid": "d24918ea-039b-405e-8a87-729b0c11c290",
     "showTitle": false,
     "tableResultSettingsMap": {
      "0": {
       "dataGridStateBlob": "{\"version\":1,\"tableState\":{\"columnPinning\":{\"left\":[\"#row_number#\"],\"right\":[]},\"columnSizing\":{},\"columnVisibility\":{}},\"settings\":{\"columns\":{}},\"syncTimestamp\":1759055504487}",
       "filterBlob": null,
       "queryPlanFiltersBlob": null,
       "tableResultIndex": 0
      }
     },
     "title": ""
    }
   },
   "outputs": [],
   "source": [
    "import pandas as pd\n",
    "\n",
    "year = 24\n",
    "path = f'/Workspace/Users/gaogang@gmail.com/Files/NHS England/Admitted Patient Care Activity/Diagnosis/hosp-epis-stat-admi-diag-20{year}-{year+1}-tab.xlsx'\n",
    "sheet = 'Primary Diagnosis 3 Character '\n",
    "\n",
    "df = pd.read_excel(path, sheet_name=sheet,usecols=\"A:B, H:P\", names=[\"Code\", \"Primary Diagnosis\", \"Finished Consultant Episodes\",\"Finished Admission Episodes\",\"Male\", \"Female\", \"Gender Unknown\", \"Emergency\", \"Waiting List\", \"Planned\", \"Other\"], skiprows=12)\n",
    "df[\"Year\"] = 2000 + year + 1\n",
    "\n",
    "df = df[df[\"Primary Diagnosis\"].notnull()]\n",
    "# Convert columns to numeric, coercing errors to NaN\n",
    "for col in [\n",
    "    \"Finished Consultant Episodes\",\n",
    "    \"Finished Admission Episodes\",\n",
    "    \"Male\",\n",
    "    \"Female\",\n",
    "    \"Gender Unknown\", \n",
    "    \"Emergency\", \n",
    "    \"Waiting List\", \n",
    "    \"Planned\", \n",
    "    \"Other\"\n",
    "]:\n",
    "    df[col] = pd.to_numeric(df[col], errors='coerce')\n",
    "\n",
    "display(df)\n",
    "display(df.dtypes)"
   ]
  },
  {
   "cell_type": "markdown",
   "metadata": {
    "application/vnd.databricks.v1+cell": {
     "cellMetadata": {
      "byteLimit": 2048000,
      "rowLimit": 10000
     },
     "inputWidgets": {},
     "nuid": "eca9c318-633d-4241-96b5-3acb4f2f99ff",
     "showTitle": false,
     "tableResultSettingsMap": {},
     "title": ""
    }
   },
   "source": [
    "### 3.2 Save patient care diagnosis data to unity catalogue"
   ]
  },
  {
   "cell_type": "code",
   "execution_count": 0,
   "metadata": {
    "application/vnd.databricks.v1+cell": {
     "cellMetadata": {
      "byteLimit": 2048000,
      "rowLimit": 10000
     },
     "inputWidgets": {},
     "nuid": "d2f04ca7-2a1e-4125-9680-895d95f291a2",
     "showTitle": false,
     "tableResultSettingsMap": {},
     "title": ""
    }
   },
   "outputs": [],
   "source": [
    "from pyspark.sql.types import IntegerType\n",
    "\n",
    "spark_df = spark.createDataFrame(df)\n",
    "spark_df = spark_df.withColumn(\"Year\", spark_df[\"Year\"].cast(IntegerType()))\n",
    "spark_df.write.format(\"iceberg\").mode(\"append\").saveAsTable(\"`depq-nhs`.patient_care.diagnosis_lv2\")"
   ]
  },
  {
   "cell_type": "code",
   "execution_count": 0,
   "metadata": {
    "application/vnd.databricks.v1+cell": {
     "cellMetadata": {
      "byteLimit": 2048000,
      "rowLimit": 10000
     },
     "inputWidgets": {},
     "nuid": "01fedc33-42ac-4eaa-92f6-61f4cbb2834b",
     "showTitle": false,
     "tableResultSettingsMap": {},
     "title": ""
    }
   },
   "outputs": [],
   "source": [
    "from delta.tables import DeltaTable\n",
    "\n",
    "# Convert pandas DataFrame to Spark DataFrame\n",
    "spark_df = spark.createDataFrame(df)\n",
    "\n",
    "# Merge (upsert) into the Iceberg table using Code and Year as unique identifiers\n",
    "spark_df.createOrReplaceTempView(\"tmp_diagnosis_update\")\n",
    "\n",
    "merge_sql = \"\"\"\n",
    "MERGE INTO `depq-nhs`.patient_care.diagnosis_lv2 AS target\n",
    "USING tmp_diagnosis_update AS source\n",
    "ON target.Code = source.Code AND target.Year = source.Year\n",
    "WHEN MATCHED THEN UPDATE SET *\n",
    "\"\"\"\n",
    "\n",
    "spark.sql(merge_sql)"
   ]
  },
  {
   "cell_type": "markdown",
   "metadata": {
    "application/vnd.databricks.v1+cell": {
     "cellMetadata": {
      "byteLimit": 2048000,
      "rowLimit": 10000
     },
     "inputWidgets": {},
     "nuid": "b0564e74-f6f9-4cd6-b96b-43b864d74d60",
     "showTitle": false,
     "tableResultSettingsMap": {},
     "title": ""
    }
   },
   "source": [
    "## 4. Simple analytics"
   ]
  },
  {
   "cell_type": "markdown",
   "metadata": {
    "application/vnd.databricks.v1+cell": {
     "cellMetadata": {},
     "inputWidgets": {},
     "nuid": "b7f494a4-35e9-4397-a921-d96ea4993eb6",
     "showTitle": false,
     "tableResultSettingsMap": {},
     "title": ""
    }
   },
   "source": [
    "### Display Year 2025 Data"
   ]
  },
  {
   "cell_type": "code",
   "execution_count": 0,
   "metadata": {
    "application/vnd.databricks.v1+cell": {
     "cellMetadata": {
      "byteLimit": 2048000,
      "rowLimit": 10000
     },
     "inputWidgets": {},
     "nuid": "70175a6e-93dc-4d14-a5e9-144deb3a7c51",
     "showTitle": false,
     "tableResultSettingsMap": {},
     "title": ""
    }
   },
   "outputs": [],
   "source": [
    "df_2025 = spark.sql(\"\"\"\n",
    "SELECT *\n",
    "FROM `depq-nhs`.patient_care.diagnosis_lv2\n",
    "WHERE Year = 2025\n",
    "\"\"\")\n",
    "display(df_2025)"
   ]
  },
  {
   "cell_type": "markdown",
   "metadata": {
    "application/vnd.databricks.v1+cell": {
     "cellMetadata": {
      "byteLimit": 2048000,
      "rowLimit": 10000
     },
     "inputWidgets": {},
     "nuid": "70253437-048b-4ef6-a5ee-dfc12cc09e60",
     "showTitle": false,
     "tableResultSettingsMap": {},
     "title": ""
    }
   },
   "source": [
    "### Top 5 most common cancers"
   ]
  },
  {
   "cell_type": "code",
   "execution_count": 0,
   "metadata": {
    "application/vnd.databricks.v1+cell": {
     "cellMetadata": {
      "byteLimit": 2048000,
      "rowLimit": 10000
     },
     "inputWidgets": {},
     "nuid": "58f3f1c0-e073-4064-9ec6-0a6492314893",
     "showTitle": false,
     "tableResultSettingsMap": {},
     "title": ""
    }
   },
   "outputs": [],
   "source": [
    "year = 2025\n",
    "\n",
    "query = f\"\"\"\n",
    "SELECT *\n",
    "FROM `depq-nhs`.patient_care.diagnosis_lv2\n",
    "WHERE ((Code >= 'C00' AND Code <= 'C97') OR (Code >= 'D00' AND Code <= 'D09'))\n",
    "   AND Year = {year}\n",
    "ORDER BY `Finished Admission Episodes` DESC\n",
    "LIMIT 5\n",
    "\"\"\"\n",
    "\n",
    "df_cancer = spark.sql(query)\n",
    "display(df_cancer)"
   ]
  },
  {
   "cell_type": "markdown",
   "metadata": {
    "application/vnd.databricks.v1+cell": {
     "cellMetadata": {
      "byteLimit": 2048000,
      "rowLimit": 10000
     },
     "inputWidgets": {},
     "nuid": "b9afbb33-8c67-4951-800b-6ab5a8a5a851",
     "showTitle": false,
     "tableResultSettingsMap": {},
     "title": ""
    }
   },
   "source": [
    "## 5. Time series analytics"
   ]
  },
  {
   "cell_type": "markdown",
   "metadata": {
    "application/vnd.databricks.v1+cell": {
     "cellMetadata": {
      "byteLimit": 2048000,
      "rowLimit": 10000
     },
     "inputWidgets": {},
     "nuid": "a8dc0808-2a67-43c6-861f-cda6a4d7794e",
     "showTitle": false,
     "tableResultSettingsMap": {},
     "title": ""
    }
   },
   "source": [
    "### Yearly Hospital Admissions for the Five Most Common Cancers"
   ]
  },
  {
   "cell_type": "code",
   "execution_count": 0,
   "metadata": {
    "application/vnd.databricks.v1+cell": {
     "cellMetadata": {
      "byteLimit": 2048000,
      "rowLimit": 10000
     },
     "inputWidgets": {},
     "nuid": "0e00ebf3-e9c4-4b58-8a71-031b4939eff7",
     "showTitle": false,
     "tableResultSettingsMap": {},
     "title": ""
    }
   },
   "outputs": [],
   "source": [
    "import pandas as pd\n",
    "import matplotlib.pyplot as plt\n",
    "\n",
    "query = \"\"\"\n",
    "SELECT Year, Code, `Primary Diagnosis`, `Finished Admission Episodes`\n",
    "FROM `depq-nhs`.patient_care.diagnosis_lv2\n",
    "WHERE Year BETWEEN 2016 AND 2025\n",
    "  AND Code IN ('C50', 'C90', 'C44', 'C18', 'C34')\n",
    "ORDER BY Year, Code\n",
    "\"\"\"\n",
    "\n",
    "df_plot = spark.sql(query).toPandas()\n",
    "\n",
    "plt.figure(figsize=(10,6))\n",
    "for code in ['C50', 'C90', 'C44', 'C18', 'C34']:\n",
    "    data = df_plot[df_plot['Code'] == code]\n",
    "    if not data.empty:\n",
    "        label = data['Primary Diagnosis'].iloc[0]\n",
    "        plt.plot(data['Year'], data['Finished Admission Episodes'], marker='o', label=label)\n",
    "\n",
    "plt.xlabel('Year')\n",
    "plt.ylabel('Finished Admission Episodes')\n",
    "plt.title('Finished Admission Episodes for Selected Diagnoses (2016-2025)')\n",
    "plt.legend(title='Primary Diagnosis')\n",
    "plt.grid(True)\n",
    "plt.tight_layout()\n",
    "plt.show()"
   ]
  },
  {
   "cell_type": "markdown",
   "metadata": {
    "application/vnd.databricks.v1+cell": {
     "cellMetadata": {
      "byteLimit": 2048000,
      "rowLimit": 10000
     },
     "inputWidgets": {},
     "nuid": "1b00f7d1-75fa-447f-a88a-0a3dfce590f1",
     "showTitle": false,
     "tableResultSettingsMap": {},
     "title": ""
    }
   },
   "source": [
    "### Prediction"
   ]
  },
  {
   "cell_type": "markdown",
   "metadata": {
    "application/vnd.databricks.v1+cell": {
     "cellMetadata": {
      "byteLimit": 2048000,
      "rowLimit": 10000
     },
     "inputWidgets": {},
     "nuid": "9f834c64-0aab-48d2-860e-2c5c44e2cecb",
     "showTitle": false,
     "tableResultSettingsMap": {},
     "title": ""
    }
   },
   "source": [
    "#### Pre-requisites "
   ]
  },
  {
   "cell_type": "markdown",
   "metadata": {
    "application/vnd.databricks.v1+cell": {
     "cellMetadata": {
      "byteLimit": 2048000,
      "rowLimit": 10000
     },
     "inputWidgets": {},
     "nuid": "33e54013-04b4-4005-90d4-3361f4d8c501",
     "showTitle": false,
     "tableResultSettingsMap": {},
     "title": ""
    }
   },
   "source": [
    "##### Prophet"
   ]
  },
  {
   "cell_type": "code",
   "execution_count": 0,
   "metadata": {
    "application/vnd.databricks.v1+cell": {
     "cellMetadata": {
      "byteLimit": 2048000,
      "rowLimit": 10000
     },
     "collapsed": true,
     "inputWidgets": {},
     "nuid": "295bc910-a8fc-466d-9d51-38d3da73e75d",
     "showTitle": false,
     "tableResultSettingsMap": {},
     "title": ""
    }
   },
   "outputs": [],
   "source": [
    "pip install prophet"
   ]
  },
  {
   "cell_type": "markdown",
   "metadata": {
    "application/vnd.databricks.v1+cell": {
     "cellMetadata": {
      "byteLimit": 2048000,
      "rowLimit": 10000
     },
     "inputWidgets": {},
     "nuid": "8e1e2f5a-cbd1-4727-ad60-c84273e9cab7",
     "showTitle": false,
     "tableResultSettingsMap": {},
     "title": ""
    }
   },
   "source": [
    "### Predict Number of Admission Episodes for Breast Cancer (2026-2030)"
   ]
  },
  {
   "cell_type": "code",
   "execution_count": 0,
   "metadata": {
    "application/vnd.databricks.v1+cell": {
     "cellMetadata": {
      "byteLimit": 2048000,
      "rowLimit": 10000
     },
     "inputWidgets": {},
     "nuid": "a6d13afd-401c-44ca-80f3-d62e6adb2625",
     "showTitle": false,
     "tableResultSettingsMap": {
      "0": {
       "dataGridStateBlob": "{\"version\":1,\"tableState\":{\"columnPinning\":{\"left\":[\"#row_number#\"],\"right\":[]},\"columnSizing\":{},\"columnVisibility\":{}},\"settings\":{\"columns\":{}},\"syncTimestamp\":1759081306590}",
       "filterBlob": null,
       "queryPlanFiltersBlob": null,
       "tableResultIndex": 0
      },
      "1": {
       "dataGridStateBlob": "{\"version\":1,\"tableState\":{\"columnPinning\":{\"left\":[\"#row_number#\"],\"right\":[]},\"columnSizing\":{},\"columnVisibility\":{}},\"settings\":{\"columns\":{}},\"syncTimestamp\":1758915754506}",
       "filterBlob": null,
       "queryPlanFiltersBlob": null,
       "tableResultIndex": 1
      }
     },
     "title": ""
    }
   },
   "outputs": [],
   "source": [
    "from prophet import Prophet\n",
    "import pandas as pd\n",
    "\n",
    "code = 'C50'\n",
    "between = 2016\n",
    "to = 2025\n",
    "\n",
    "model_flexibility = 0.05\n",
    "\n",
    "query = f\"\"\"\n",
    "SELECT Year, `Finished Admission Episodes`\n",
    "FROM `depq-nhs`.patient_care.diagnosis_lv2\n",
    "WHERE `Code` = '{code}' AND Year BETWEEN {between} AND {to}\n",
    "ORDER BY Year\n",
    "\"\"\"\n",
    "\n",
    "df_cancer = spark.sql(query).toPandas()\n",
    "df_cancer = df_cancer.rename(columns={\"Year\": \"ds\", \"Finished Admission Episodes\": \"y\"})\n",
    "df_cancer.loc[df_cancer[\"ds\"].isin([2021]), \"y\"] = None\n",
    "df_cancer[\"ds\"] = pd.to_datetime(df_cancer[\"ds\"], format='%Y')\n",
    "\n",
    "display(df_cancer)\n",
    "\n",
    "model = Prophet(changepoint_prior_scale=model_flexibility)\n",
    "model.fit(df_cancer)\n",
    "\n",
    "future = model.make_future_dataframe(periods=5, freq='Y')\n",
    "forecast = model.predict(future)\n",
    "\n",
    "forecast[['ds', 'yhat', 'yhat_lower', 'yhat_upper']].tail()\n",
    "\n",
    "fig1 = model.plot(forecast)\n",
    "fig1.gca().set_xlabel('Year')\n",
    "fig1.gca().set_ylabel('Finished Admission Episodes (Breast Cancer)')\n",
    "\n",
    "display(forecast)"
   ]
  }
 ],
 "metadata": {
  "application/vnd.databricks.v1+notebook": {
   "computePreferences": null,
   "dashboards": [],
   "environmentMetadata": {
    "base_environment": "",
    "environment_version": "3"
   },
   "inputWidgetPreferences": null,
   "language": "python",
   "notebookMetadata": {
    "mostRecentlyExecutedCommandWithImplicitDF": {
     "commandId": 8353263942430777,
     "dataframes": [
      "_sqldf"
     ]
    },
    "pythonIndentUnit": 4
   },
   "notebookName": "NHS England - Hospital Admitted Patient Diagnosis",
   "widgets": {}
  },
  "language_info": {
   "name": "python"
  }
 },
 "nbformat": 4,
 "nbformat_minor": 0
}
